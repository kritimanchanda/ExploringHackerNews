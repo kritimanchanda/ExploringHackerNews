{
 "cells": [
  {
   "cell_type": "markdown",
   "metadata": {
    "collapsed": true
   },
   "source": [
    "# Hacker News"
   ]
  },
  {
   "cell_type": "markdown",
   "metadata": {},
   "source": [
    "Hacker News is a site started by the startup incubator Y Combinator, where user-submitted stories (known as \"posts\") are voted and commented upon, similar to reddit. Hacker News is extremely popular in technology and startup circles, and posts that make it to the top of Hacker News' listings can get hundreds of thousands of visitors as a result."
   ]
  },
  {
   "cell_type": "code",
   "execution_count": 122,
   "metadata": {},
   "outputs": [
    {
     "data": {
      "text/html": [
       "<div>\n",
       "<style scoped>\n",
       "    .dataframe tbody tr th:only-of-type {\n",
       "        vertical-align: middle;\n",
       "    }\n",
       "\n",
       "    .dataframe tbody tr th {\n",
       "        vertical-align: top;\n",
       "    }\n",
       "\n",
       "    .dataframe thead th {\n",
       "        text-align: right;\n",
       "    }\n",
       "</style>\n",
       "<table border=\"1\" class=\"dataframe\">\n",
       "  <thead>\n",
       "    <tr style=\"text-align: right;\">\n",
       "      <th></th>\n",
       "      <th>id</th>\n",
       "      <th>title</th>\n",
       "      <th>url</th>\n",
       "      <th>num_points</th>\n",
       "      <th>num_comments</th>\n",
       "      <th>author</th>\n",
       "      <th>created_at</th>\n",
       "    </tr>\n",
       "  </thead>\n",
       "  <tbody>\n",
       "    <tr>\n",
       "      <th>0</th>\n",
       "      <td>12224879</td>\n",
       "      <td>Interactive Dynamic Video</td>\n",
       "      <td>http://www.interactivedynamicvideo.com/</td>\n",
       "      <td>386</td>\n",
       "      <td>52</td>\n",
       "      <td>ne0phyte</td>\n",
       "      <td>8/4/2016 11:52</td>\n",
       "    </tr>\n",
       "    <tr>\n",
       "      <th>1</th>\n",
       "      <td>10975351</td>\n",
       "      <td>How to Use Open Source and Shut the Fuck Up at...</td>\n",
       "      <td>http://hueniverse.com/2016/01/26/how-to-use-op...</td>\n",
       "      <td>39</td>\n",
       "      <td>10</td>\n",
       "      <td>josep2</td>\n",
       "      <td>1/26/2016 19:30</td>\n",
       "    </tr>\n",
       "    <tr>\n",
       "      <th>2</th>\n",
       "      <td>11964716</td>\n",
       "      <td>Florida DJs May Face Felony for April Fools' W...</td>\n",
       "      <td>http://www.thewire.com/entertainment/2013/04/f...</td>\n",
       "      <td>2</td>\n",
       "      <td>1</td>\n",
       "      <td>vezycash</td>\n",
       "      <td>6/23/2016 22:20</td>\n",
       "    </tr>\n",
       "    <tr>\n",
       "      <th>3</th>\n",
       "      <td>11919867</td>\n",
       "      <td>Technology ventures: From Idea to Enterprise</td>\n",
       "      <td>https://www.amazon.com/Technology-Ventures-Ent...</td>\n",
       "      <td>3</td>\n",
       "      <td>1</td>\n",
       "      <td>hswarna</td>\n",
       "      <td>6/17/2016 0:01</td>\n",
       "    </tr>\n",
       "    <tr>\n",
       "      <th>4</th>\n",
       "      <td>10301696</td>\n",
       "      <td>Note by Note: The Making of Steinway L1037 (2007)</td>\n",
       "      <td>http://www.nytimes.com/2007/11/07/movies/07ste...</td>\n",
       "      <td>8</td>\n",
       "      <td>2</td>\n",
       "      <td>walterbell</td>\n",
       "      <td>9/30/2015 4:12</td>\n",
       "    </tr>\n",
       "  </tbody>\n",
       "</table>\n",
       "</div>"
      ],
      "text/plain": [
       "         id                                              title  \\\n",
       "0  12224879                          Interactive Dynamic Video   \n",
       "1  10975351  How to Use Open Source and Shut the Fuck Up at...   \n",
       "2  11964716  Florida DJs May Face Felony for April Fools' W...   \n",
       "3  11919867       Technology ventures: From Idea to Enterprise   \n",
       "4  10301696  Note by Note: The Making of Steinway L1037 (2007)   \n",
       "\n",
       "                                                 url  num_points  \\\n",
       "0            http://www.interactivedynamicvideo.com/         386   \n",
       "1  http://hueniverse.com/2016/01/26/how-to-use-op...          39   \n",
       "2  http://www.thewire.com/entertainment/2013/04/f...           2   \n",
       "3  https://www.amazon.com/Technology-Ventures-Ent...           3   \n",
       "4  http://www.nytimes.com/2007/11/07/movies/07ste...           8   \n",
       "\n",
       "   num_comments      author       created_at  \n",
       "0            52    ne0phyte   8/4/2016 11:52  \n",
       "1            10      josep2  1/26/2016 19:30  \n",
       "2             1    vezycash  6/23/2016 22:20  \n",
       "3             1     hswarna   6/17/2016 0:01  \n",
       "4             2  walterbell   9/30/2015 4:12  "
      ]
     },
     "execution_count": 122,
     "metadata": {},
     "output_type": "execute_result"
    }
   ],
   "source": [
    "import numpy as np\n",
    "import pandas as pd\n",
    "hn=pd.read_csv('hacker_news.csv')\n",
    "hn.head(5)"
   ]
  },
  {
   "cell_type": "code",
   "execution_count": 123,
   "metadata": {},
   "outputs": [
    {
     "data": {
      "text/plain": [
       "7              Ask HN: How to improve my personal website?\n",
       "17       Ask HN: Am I the only one outraged by Twitter ...\n",
       "22       Ask HN: Aby recent changes to CSS that broke m...\n",
       "30         Ask HN: Looking for Employee #3 How do I do it?\n",
       "31       Ask HN: Someone offered to buy my browser exte...\n",
       "                               ...                        \n",
       "20039    Ask HN: Is it feasible to port Apple's Swift t...\n",
       "20042       Ask HN: What to do when a developer goes dark?\n",
       "20045                           Ask HN: Killer app for AR?\n",
       "20048    Ask HN: How do you balance a serious relations...\n",
       "20061      Ask HN: Why are papers still published as PDFs?\n",
       "Name: title, Length: 1744, dtype: object"
      ]
     },
     "execution_count": 123,
     "metadata": {},
     "output_type": "execute_result"
    }
   ],
   "source": [
    "ask_posts=hn[hn['title'].str.lower().str.startswith('ask hn')]['title']\n",
    "ask_posts"
   ]
  },
  {
   "cell_type": "code",
   "execution_count": 124,
   "metadata": {},
   "outputs": [
    {
     "data": {
      "text/plain": [
       "13       Show HN: Wio Link  ESP8266 Based Web of Things...\n",
       "39                     Show HN: Something pointless I made\n",
       "46       Show HN: Shanhu.io, a programming playground p...\n",
       "84       Show HN: Webscope  Easy way for web developers...\n",
       "97       Show HN: GeoScreenshot  Easily test Geo-IP bas...\n",
       "                               ...                        \n",
       "19993    Show HN: Geocoding API built with government o...\n",
       "19999    Show HN: Decorating: Animated pulsed for your ...\n",
       "20014                             Show HN: Idea to startup\n",
       "20065       Show HN: PhantomJsCloud, Headless Browser SaaS\n",
       "20070    Show HN: Parse recipe ingredients using JavaSc...\n",
       "Name: title, Length: 1162, dtype: object"
      ]
     },
     "execution_count": 124,
     "metadata": {},
     "output_type": "execute_result"
    }
   ],
   "source": [
    "show_posts=hn[hn['title'].str.lower().str.startswith('show hn')]['title']\n",
    "show_posts"
   ]
  },
  {
   "cell_type": "code",
   "execution_count": 125,
   "metadata": {},
   "outputs": [],
   "source": [
    "bool1=hn['title'].str.lower().str.startswith('show hn')\n",
    "bool2=hn['title'].str.lower().str.startswith('ask hn')\n",
    "bool3=bool1 | bool2\n",
    "bool_not=~bool3"
   ]
  },
  {
   "cell_type": "code",
   "execution_count": 126,
   "metadata": {},
   "outputs": [],
   "source": [
    "other_posts=hn[bool_not]['title']"
   ]
  },
  {
   "cell_type": "code",
   "execution_count": 127,
   "metadata": {},
   "outputs": [
    {
     "name": "stdout",
     "output_type": "stream",
     "text": [
      "total ask posts 1744\n",
      "total show posts 1162\n",
      "total others posts 17194\n"
     ]
    }
   ],
   "source": [
    "total_asks=len(ask_posts)\n",
    "total_show=len(show_posts)\n",
    "total_others=len(other_posts)\n",
    "print(\"total ask posts \" +str(total_asks))\n",
    "print(\"total show posts \" +str(total_show))\n",
    "print(\"total others posts \" +str(total_others))"
   ]
  },
  {
   "cell_type": "code",
   "execution_count": 128,
   "metadata": {},
   "outputs": [],
   "source": [
    "# Avg of number of comments - Show HN\n",
    "avg_show_comments=(hn[bool1]['num_comments'].sum())/total_show\n",
    "avg_ask_comments=(hn[bool2]['num_comments'].sum())/total_asks\n",
    "avg_other_comments=(hn[bool_not]['num_comments'].sum())/total_others"
   ]
  },
  {
   "cell_type": "code",
   "execution_count": 129,
   "metadata": {},
   "outputs": [
    {
     "name": "stdout",
     "output_type": "stream",
     "text": [
      "Avg show comments: 10.31669535283993\n",
      "Avg ask comments: 14.038417431192661\n",
      "Avg other comments: 26.8730371059672\n"
     ]
    }
   ],
   "source": [
    "print(\"Avg show comments: \"+str(avg_show_comments))\n",
    "print(\"Avg ask comments: \"+str(avg_ask_comments))\n",
    "print(\"Avg other comments: \"+str(avg_other_comments))\n"
   ]
  },
  {
   "cell_type": "markdown",
   "metadata": {},
   "source": [
    "**Ask HN posts have more comments than Show HN posts**"
   ]
  },
  {
   "cell_type": "markdown",
   "metadata": {},
   "source": [
    " We'll determine if ask posts created at a certain time are more likely to attract comments. We'll use the following steps to perform this analysis:\n",
    "\n",
    "Calculate the amount of ask posts created in each hour of the day, along with the number of comments received.\n",
    "Calculate the average number of comments ask posts receive by hour created."
   ]
  },
  {
   "cell_type": "code",
   "execution_count": 130,
   "metadata": {},
   "outputs": [
    {
     "data": {
      "text/plain": [
       "7          8/16/2016 9:55\n",
       "17       11/22/2015 13:43\n",
       "22         5/2/2016 10:14\n",
       "30         8/2/2016 14:20\n",
       "31       10/15/2015 16:38\n",
       "               ...       \n",
       "20039      1/29/2016 9:42\n",
       "20042      8/7/2016 12:58\n",
       "20045       7/4/2016 8:50\n",
       "20048       3/5/2016 1:25\n",
       "20061      5/21/2016 9:22\n",
       "Name: created_at, Length: 1744, dtype: object"
      ]
     },
     "execution_count": 130,
     "metadata": {},
     "output_type": "execute_result"
    }
   ],
   "source": [
    "hn[bool2]['created_at']"
   ]
  },
  {
   "cell_type": "code",
   "execution_count": 131,
   "metadata": {},
   "outputs": [
    {
     "name": "stderr",
     "output_type": "stream",
     "text": [
      "<ipython-input-131-67c594495b38>:3: UserWarning: Boolean Series key will be reindexed to match DataFrame index.\n",
      "  created_at=ask_df[bool2]['created_at']\n",
      "<ipython-input-131-67c594495b38>:4: UserWarning: Boolean Series key will be reindexed to match DataFrame index.\n",
      "  created_at_dttime=pd.to_datetime(ask_df[bool2]['created_at'], format='%m/%d/%Y %H:%M')\n"
     ]
    },
    {
     "data": {
      "text/plain": [
       "7        09\n",
       "17       13\n",
       "22       10\n",
       "30       14\n",
       "31       16\n",
       "         ..\n",
       "20039    09\n",
       "20042    12\n",
       "20045    08\n",
       "20048    01\n",
       "20061    09\n",
       "Name: created_at, Length: 1744, dtype: object"
      ]
     },
     "execution_count": 131,
     "metadata": {},
     "output_type": "execute_result"
    }
   ],
   "source": [
    "import datetime as dt\n",
    "ask_df=hn[bool2]\n",
    "created_at=ask_df[bool2]['created_at']\n",
    "created_at_dttime=pd.to_datetime(ask_df[bool2]['created_at'], format='%m/%d/%Y %H:%M')\n",
    "created_at_hr=created_at_dttime.dt.strftime('%H')\n",
    "created_at_hr"
   ]
  },
  {
   "cell_type": "markdown",
   "metadata": {},
   "source": [
    "**Number of comments each hour for ask hn**"
   ]
  },
  {
   "cell_type": "code",
   "execution_count": 133,
   "metadata": {},
   "outputs": [
    {
     "name": "stderr",
     "output_type": "stream",
     "text": [
      "<ipython-input-133-59a249847000>:3: SettingWithCopyWarning: \n",
      "A value is trying to be set on a copy of a slice from a DataFrame.\n",
      "Try using .loc[row_indexer,col_indexer] = value instead\n",
      "\n",
      "See the caveats in the documentation: https://pandas.pydata.org/pandas-docs/stable/user_guide/indexing.html#returning-a-view-versus-a-copy\n",
      "  ask_df['created_hr']=created_at_hr\n"
     ]
    },
    {
     "data": {
      "text/plain": [
       "created_hr\n",
       "00     447\n",
       "01     683\n",
       "02    1381\n",
       "03     421\n",
       "04     337\n",
       "05     464\n",
       "06     397\n",
       "07     267\n",
       "08     492\n",
       "09     251\n",
       "10     793\n",
       "11     641\n",
       "12     687\n",
       "13    1253\n",
       "14    1416\n",
       "15    4477\n",
       "16    1814\n",
       "17    1146\n",
       "18    1439\n",
       "19    1188\n",
       "20    1722\n",
       "21    1745\n",
       "22     479\n",
       "23     543\n",
       "Name: num_comments, dtype: int64"
      ]
     },
     "execution_count": 133,
     "metadata": {},
     "output_type": "execute_result"
    }
   ],
   "source": [
    "#Ask dataframe\n",
    "\n",
    "ask_df['created_hr']=created_at_hr\n",
    "grouped_df=ask_df.groupby(['created_hr'])['num_comments'].sum()\n",
    "grouped_df\n",
    "\n"
   ]
  },
  {
   "cell_type": "markdown",
   "metadata": {},
   "source": [
    "**Number of posts each hour for ask hn**"
   ]
  },
  {
   "cell_type": "code",
   "execution_count": 137,
   "metadata": {},
   "outputs": [
    {
     "name": "stderr",
     "output_type": "stream",
     "text": [
      "<ipython-input-137-8a784c048d52>:1: SettingWithCopyWarning: \n",
      "A value is trying to be set on a copy of a slice from a DataFrame.\n",
      "Try using .loc[row_indexer,col_indexer] = value instead\n",
      "\n",
      "See the caveats in the documentation: https://pandas.pydata.org/pandas-docs/stable/user_guide/indexing.html#returning-a-view-versus-a-copy\n",
      "  ask_df['created_hr']=created_at_hr\n"
     ]
    },
    {
     "data": {
      "text/plain": [
       "created_hr\n",
       "00     55\n",
       "01     60\n",
       "02     58\n",
       "03     54\n",
       "04     47\n",
       "05     46\n",
       "06     44\n",
       "07     34\n",
       "08     48\n",
       "09     45\n",
       "10     59\n",
       "11     58\n",
       "12     73\n",
       "13     85\n",
       "14    107\n",
       "15    116\n",
       "16    108\n",
       "17    100\n",
       "18    109\n",
       "19    110\n",
       "20     80\n",
       "21    109\n",
       "22     71\n",
       "23     68\n",
       "Name: id, dtype: int64"
      ]
     },
     "execution_count": 137,
     "metadata": {},
     "output_type": "execute_result"
    }
   ],
   "source": [
    "ask_df['created_hr']=created_at_hr\n",
    "grouped_df=ask_df.groupby(['created_hr'])['id'].count()\n",
    "grouped_df"
   ]
  },
  {
   "cell_type": "markdown",
   "metadata": {},
   "source": [
    "**Average number of posts each hour**"
   ]
  },
  {
   "cell_type": "code",
   "execution_count": 142,
   "metadata": {},
   "outputs": [
    {
     "data": {
      "text/plain": [
       "created_hr\n",
       "00     8.127273\n",
       "01    11.383333\n",
       "02    23.810345\n",
       "03     7.796296\n",
       "04     7.170213\n",
       "05    10.086957\n",
       "06     9.022727\n",
       "07     7.852941\n",
       "08    10.250000\n",
       "09     5.577778\n",
       "10    13.440678\n",
       "11    11.051724\n",
       "12     9.410959\n",
       "13    14.741176\n",
       "14    13.233645\n",
       "15    38.594828\n",
       "16    16.796296\n",
       "17    11.460000\n",
       "18    13.201835\n",
       "19    10.800000\n",
       "20    21.525000\n",
       "21    16.009174\n",
       "22     6.746479\n",
       "23     7.985294\n",
       "Name: num_comments, dtype: float64"
      ]
     },
     "execution_count": 142,
     "metadata": {},
     "output_type": "execute_result"
    }
   ],
   "source": [
    "grouped_df=ask_df.groupby(['created_hr'])['num_comments'].mean()\n",
    "grouped_df"
   ]
  },
  {
   "cell_type": "code",
   "execution_count": 148,
   "metadata": {},
   "outputs": [
    {
     "data": {
      "text/plain": [
       "created_hr\n",
       "15    38.594828\n",
       "02    23.810345\n",
       "20    21.525000\n",
       "16    16.796296\n",
       "21    16.009174\n",
       "Name: num_comments, dtype: float64"
      ]
     },
     "execution_count": 148,
     "metadata": {},
     "output_type": "execute_result"
    }
   ],
   "source": [
    "ask_df.groupby(['created_hr'])['num_comments'].mean().sort_values(ascending=False).head(5)"
   ]
  },
  {
   "cell_type": "markdown",
   "metadata": {},
   "source": [
    "Thus top 5 hours of the most ask comments are 15,02,20,16,21"
   ]
  },
  {
   "cell_type": "markdown",
   "metadata": {},
   "source": [
    "In this project, we analyzed ask posts and show posts to determine which type of post and time receive the most comments on average. Based on our analysis, to maximize the amount of comments a post receives, we'd recommend the post be categorized as ask post and created between 15:00 and 16:00 (3:00 pm est - 4:00 pm est)."
   ]
  },
  {
   "cell_type": "code",
   "execution_count": null,
   "metadata": {},
   "outputs": [],
   "source": []
  }
 ],
 "metadata": {
  "kernelspec": {
   "display_name": "Python 3",
   "language": "python",
   "name": "python3"
  },
  "language_info": {
   "codemirror_mode": {
    "name": "ipython",
    "version": 3
   },
   "file_extension": ".py",
   "mimetype": "text/x-python",
   "name": "python",
   "nbconvert_exporter": "python",
   "pygments_lexer": "ipython3",
   "version": "3.8.2"
  }
 },
 "nbformat": 4,
 "nbformat_minor": 2
}
